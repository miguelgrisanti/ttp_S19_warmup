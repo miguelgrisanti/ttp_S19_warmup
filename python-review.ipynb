{
 "cells": [
  {
   "cell_type": "code",
   "execution_count": null,
   "metadata": {},
   "outputs": [],
   "source": [
    "'''\n",
    "Write a function called \"isOdd\". Given a number, \"isOdd\" returns whether the given number is odd.\n",
    "\n",
    "output = isOdd(9)\n",
    "print(output) # --> True\n",
    "'''"
   ]
  },
  {
   "cell_type": "code",
   "execution_count": 57,
   "metadata": {},
   "outputs": [
    {
     "name": "stdout",
     "output_type": "stream",
     "text": [
      "True\n"
     ]
    }
   ],
   "source": [
    "def isOdd(x):\n",
    "    if x % 2 != 0:\n",
    "        return True\n",
    "    else:\n",
    "        return False\n",
    "\n",
    "output = isOdd(9)\n",
    "print(output)"
   ]
  },
  {
   "cell_type": "code",
   "execution_count": null,
   "metadata": {},
   "outputs": [],
   "source": [
    "'''\n",
    "Write a function called \"isLessThan\". Given 2 numbers, \"isLessThan\" returns whether num2 is less than num1.\n",
    "\n",
    "output = isLessThan(9, 4)\n",
    "print(output) # --> True\n",
    "'''"
   ]
  },
  {
   "cell_type": "code",
   "execution_count": 58,
   "metadata": {},
   "outputs": [
    {
     "name": "stdout",
     "output_type": "stream",
     "text": [
      "True\n"
     ]
    }
   ],
   "source": [
    "def isLessThan(num1,num2):\n",
    "    return num1 > num2\n",
    "\n",
    "output = isLessThan(9, 4)\n",
    "print(output)\n",
    "    "
   ]
  },
  {
   "cell_type": "code",
   "execution_count": null,
   "metadata": {},
   "outputs": [],
   "source": []
  },
  {
   "cell_type": "code",
   "execution_count": null,
   "metadata": {},
   "outputs": [],
   "source": [
    "'''\n",
    "Write a function called \"squareElements\". Given a list of numbers, \"squareElements\" should return a new list where each element is the square of the element of the given list.\n",
    "\n",
    "output = squareElements([1, 2, 3])\n",
    "print(output) # --> [1, 4, 9]\n",
    "'''"
   ]
  },
  {
   "cell_type": "code",
   "execution_count": null,
   "metadata": {},
   "outputs": [],
   "source": []
  },
  {
   "cell_type": "code",
   "execution_count": 62,
   "metadata": {},
   "outputs": [
    {
     "name": "stdout",
     "output_type": "stream",
     "text": [
      "[1, 4, 9]\n"
     ]
    }
   ],
   "source": [
    "def squareElements(lst):\n",
    "    return[i ** 2 for i in lst] #list comprehension\n",
    "\n",
    "\n",
    "output = squareElements([1,2,3])\n",
    "print(output)"
   ]
  },
  {
   "cell_type": "code",
   "execution_count": 63,
   "metadata": {},
   "outputs": [
    {
     "data": {
      "text/plain": [
       "'\\nWrite a function called \"isSameLength\".\\n\\nGiven two words, \"isSameLength\" returns whether the given words have the same length.\\n\\noutput = isSameLength(\\'words\\', \\'super\\')\\nprint(output) # --> True\\n'"
      ]
     },
     "execution_count": 63,
     "metadata": {},
     "output_type": "execute_result"
    }
   ],
   "source": [
    "'''\n",
    "Write a function called \"isSameLength\".\n",
    "\n",
    "Given two words, \"isSameLength\" returns whether the given words have the same length.\n",
    "\n",
    "output = isSameLength('words', 'super')\n",
    "print(output) # --> True\n",
    "'''"
   ]
  },
  {
   "cell_type": "code",
   "execution_count": 65,
   "metadata": {},
   "outputs": [
    {
     "name": "stdout",
     "output_type": "stream",
     "text": [
      "True\n"
     ]
    }
   ],
   "source": [
    "def isSameLength(x, y):\n",
    "    return len(x) == len(y)\n",
    "        \n",
    "\n",
    "output = isSameLength('words', 'super')\n",
    "print(output)"
   ]
  },
  {
   "cell_type": "code",
   "execution_count": null,
   "metadata": {},
   "outputs": [],
   "source": [
    "'''\n",
    "Write a function called \"getAllLetters\".\n",
    "\n",
    "Given a word, \"getAllLetters\" returns an array containing every character in the word.\n",
    "\n",
    "Notes:\n",
    "\n",
    "If given an empty string, it should return an empty array.\n",
    "output = getAllLetters('Radagast')\n",
    "print(output) # --> ['R', 'a', 'd', 'a', 'g', 'a', 's', 't']\n",
    "'''"
   ]
  },
  {
   "cell_type": "code",
   "execution_count": 47,
   "metadata": {},
   "outputs": [
    {
     "name": "stdout",
     "output_type": "stream",
     "text": [
      "['R', 'a', 'd', 'a', 'g', 'a', 's', 't']\n"
     ]
    }
   ],
   "source": [
    "def getAllLetters(x):\n",
    "        return list(x)\n",
    "\n",
    "output = getAllLetters('Radagast')\n",
    "print(output)"
   ]
  },
  {
   "cell_type": "code",
   "execution_count": null,
   "metadata": {},
   "outputs": [],
   "source": [
    "'''\n",
    "Write a function called \"countWords\".\n",
    "\n",
    "Given a string, \"countWords\" returns a dictionary where each key is a word in the given string, with its value being how many times that word appeared in the given string.\n",
    "\n",
    "Notes:\n",
    "\n",
    "If given an empty string, it should return an empty dictionary.\n",
    "output = countWords('ask a bunch get a bunch')\n",
    "print(output) # --> {'ask': 1, 'a': 2, 'bunch': 2, 'get': 1}\n",
    "'''"
   ]
  },
  {
   "cell_type": "code",
   "execution_count": 49,
   "metadata": {},
   "outputs": [
    {
     "name": "stdout",
     "output_type": "stream",
     "text": [
      "{'ask': 1, 'a': 2, 'bunch': 2, 'get': 1}\n"
     ]
    }
   ],
   "source": [
    "def countWords(x):\n",
    "    xlist = x.split()\n",
    "    xfreq = [xlist.count(p) for p in xlist]\n",
    "    return dict(zip(xlist, xfreq))\n",
    "\n",
    "output = countWords('ask a bunch get a bunch')\n",
    "print(output)"
   ]
  },
  {
   "cell_type": "code",
   "execution_count": null,
   "metadata": {},
   "outputs": [],
   "source": [
    "'''\n",
    "Write a function called \"extend\".\n",
    "\n",
    "Given two dictionaries, \"extend\" adds properties from the second dictionary to the first.\n",
    "\n",
    "Notes:\n",
    "\n",
    "Add any keys from the 2nd dictionary that are not in the first.\n",
    "If the 1st dictionary already has a given key, ignore it (do not overwrite the first dictionary if it already has the given key).\n",
    "Do not modify the 2nd dictionary at all.\n",
    "dict1 = {'a': 1, 'b': 2}\n",
    "\n",
    "dict2 = {'b': 4, 'c': 3}\n",
    "\n",
    "\n",
    "result = extend(dict1, dict2)\n",
    "\n",
    "print(result) # --> {'a': 1, 'b': 2, 'c': 3}\n",
    "print(dict1)  # --> {'a': 1, 'b': 2, 'c': 3}\n",
    "print(dict2) # --> {'b': 4, 'c': 3}\n",
    "'''"
   ]
  },
  {
   "cell_type": "code",
   "execution_count": 87,
   "metadata": {},
   "outputs": [
    {
     "name": "stdout",
     "output_type": "stream",
     "text": [
      "{'a': 1, 'b': 2, 'c': 3}\n",
      "{'a': 1, 'b': 2, 'c': 3}\n",
      "{'b': 4, 'c': 3}\n"
     ]
    }
   ],
   "source": [
    "def extend(dict1, dict2):\n",
    "    for key in dict2:\n",
    "        if key not in dict1:\n",
    "            dict1[key] = dict2[key]\n",
    "    return dict1\n",
    "   \n",
    "    \n",
    "dict1 = {'a': 1, 'b': 2}\n",
    "\n",
    "dict2 = {'b': 4, 'c': 3}\n",
    "\n",
    "result = extend(dict1, dict2)\n",
    "\n",
    "print(result)\n",
    "print(dict1)\n",
    "print(dict2)\n"
   ]
  },
  {
   "cell_type": "code",
   "execution_count": 73,
   "metadata": {},
   "outputs": [
    {
     "data": {
      "text/plain": [
       "'Write a function called \"select\".\\n\\nGiven list and a dictionary, \"select\" returns a new dictionary whose keys are those in the given dictionary which are present in the given list.\\n\\nNotes:\\n\\nIf keys are present in the given list, but are not in the given dictionary, it should ignore them.\\nIt does not modify the passed in dictionary.\\ninput_list = [\\'a\\', \\'c\\', \\'e\\']\\ninput_dict = {\\'a\\': 1, \\'b\\': 2, \\'c\\': 3, \\'d\\': 4}\\n\\noutput = select(input_list, input_dict)\\nprint(output) # --> {\\'a\\': 1, \\'c\\': 3}\\n\\nprint(input_dict) # --> {\\'a\\': 1, \\'b\\': 2, \\'c\\': 3, \\'d\\': 4}\\n'"
      ]
     },
     "execution_count": 73,
     "metadata": {},
     "output_type": "execute_result"
    }
   ],
   "source": [
    "'''Write a function called \"select\".\n",
    "\n",
    "Given list and a dictionary, \"select\" returns a new dictionary whose keys are those in the given dictionary which are present in the given list.\n",
    "\n",
    "Notes:\n",
    "\n",
    "If keys are present in the given list, but are not in the given dictionary, it should ignore them.\n",
    "It does not modify the passed in dictionary.\n",
    "input_list = ['a', 'c', 'e']\n",
    "input_dict = {'a': 1, 'b': 2, 'c': 3, 'd': 4}\n",
    "\n",
    "output = select(input_list, input_dict)\n",
    "print(output) # --> {'a': 1, 'c': 3}\n",
    "\n",
    "print(input_dict) # --> {'a': 1, 'b': 2, 'c': 3, 'd': 4}\n",
    "'''"
   ]
  },
  {
   "cell_type": "code",
   "execution_count": 95,
   "metadata": {},
   "outputs": [
    {
     "name": "stdout",
     "output_type": "stream",
     "text": [
      "{'a': 1, 'c': 3}\n"
     ]
    }
   ],
   "source": [
    "def select(lst,dictionary):\n",
    "    new_dict = {}\n",
    "    for item in lst:\n",
    "        if item in dictionary:\n",
    "            new_dict[item] = dictionary[item]\n",
    "    return new_dict\n",
    "\n",
    "input_list = ['a', 'c', 'e']\n",
    "input_dict = {'a': 1, 'b': 2, 'c': 3, 'd': 4}\n",
    "\n",
    "output = select(input_list, input_dict)\n",
    "print(output) # --> {'a': 1, 'c': 3}"
   ]
  },
  {
   "cell_type": "code",
   "execution_count": null,
   "metadata": {},
   "outputs": [],
   "source": [
    "'''\n",
    "Write a function called \"countAllCharacters\".\n",
    "\n",
    "Given a string, \"countAllCharacters\" returns a dictionary where each key is a character in the given string. The value of each key should be how many times each character appeared in the given string.\n",
    "\n",
    "Notes:\n",
    "\n",
    "If given an empty string, countAllCharacters should return an empty dictionary.\n",
    "output = countAllCharacters('banana')\n",
    "print(output) # --> {'b': 1, 'a': 3, 'n': 2}\n",
    "'''"
   ]
  },
  {
   "cell_type": "code",
   "execution_count": 91,
   "metadata": {},
   "outputs": [
    {
     "name": "stdout",
     "output_type": "stream",
     "text": [
      "{'b': 1, 'a': 3, 'n': 2}\n"
     ]
    }
   ],
   "source": [
    "def countAllCharacters(string):\n",
    "    new_dict = {}\n",
    "    for letter in string:\n",
    "        if letter in new_dict:\n",
    "            new_dict[letter] += 1\n",
    "        else:\n",
    "            new_dict[letter] = 1\n",
    "    return new_dict\n",
    "    \n",
    "output = countAllCharacters('banana')\n",
    "print(output)"
   ]
  },
  {
   "cell_type": "code",
   "execution_count": 96,
   "metadata": {},
   "outputs": [],
   "source": [
    "import collections\n",
    "from collections import Counter\n",
    "c = Counter ('banana')"
   ]
  },
  {
   "cell_type": "code",
   "execution_count": null,
   "metadata": {},
   "outputs": [],
   "source": []
  }
 ],
 "metadata": {
  "kernelspec": {
   "display_name": "Python 3",
   "language": "python",
   "name": "python3"
  },
  "language_info": {
   "codemirror_mode": {
    "name": "ipython",
    "version": 3
   },
   "file_extension": ".py",
   "mimetype": "text/x-python",
   "name": "python",
   "nbconvert_exporter": "python",
   "pygments_lexer": "ipython3",
   "version": "3.7.3"
  }
 },
 "nbformat": 4,
 "nbformat_minor": 2
}
