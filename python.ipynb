{
 "cells": [
  {
   "cell_type": "code",
   "execution_count": 15,
   "metadata": {},
   "outputs": [
    {
     "ename": "IndentationError",
     "evalue": "expected an indented block (<ipython-input-15-065dd22bba38>, line 7)",
     "output_type": "error",
     "traceback": [
      "\u001b[0;36m  File \u001b[0;32m\"<ipython-input-15-065dd22bba38>\"\u001b[0;36m, line \u001b[0;32m7\u001b[0m\n\u001b[0;31m    for x = int(input())\u001b[0m\n\u001b[0m      ^\u001b[0m\n\u001b[0;31mIndentationError\u001b[0m\u001b[0;31m:\u001b[0m expected an indented block\n"
     ]
    }
   ],
   "source": [
    "# PYTHON\n",
    "# write a function that takes an input, subtracts 1 from it, squares it,\n",
    "# and subtracts 1 again, then run the code below:\n",
    "\n",
    "# write function here\n",
    "def math_fxn(): \n",
    "for x = int(input())\n",
    "    y = (x - 1)**2\n",
    "    z = y - 1\n",
    "\n",
    "#then run this code\n",
    "x = 10\n",
    "y = math_fxn(x)\n",
    "z = math_fxn(y)\n",
    "print('The value for x is:', x, ' (should be 10)')\n",
    "print('The value for y is:', y, ' (should be 80)')\n",
    "print('The value for z is:', z, ' (should be 6240)')"
   ]
  },
  {
   "cell_type": "code",
   "execution_count": 30,
   "metadata": {},
   "outputs": [
    {
     "name": "stdout",
     "output_type": "stream",
     "text": [
      "10\n"
     ]
    },
    {
     "data": {
      "text/plain": [
       "80"
      ]
     },
     "execution_count": 30,
     "metadata": {},
     "output_type": "execute_result"
    }
   ],
   "source": [
    "x = int(input())\n",
    "\n",
    "def math_fxn(x):\n",
    "    return ((x - 1)**2)-1\n",
    "\n",
    "math_fxn(x)"
   ]
  },
  {
   "cell_type": "code",
   "execution_count": 29,
   "metadata": {},
   "outputs": [
    {
     "name": "stdout",
     "output_type": "stream",
     "text": [
      "The value for x is: 10  (should be 10)\n",
      "The value for y is: 80  (should be 80)\n",
      "The value for z is: 6240  (should be 6240)\n"
     ]
    }
   ],
   "source": [
    "x = 10\n",
    "y = math_fxn(x)\n",
    "z = math_fxn(y)\n",
    "print('The value for x is:', x, ' (should be 10)')\n",
    "print('The value for y is:', y, ' (should be 80)')\n",
    "print('The value for z is:', z, ' (should be 6240)')"
   ]
  },
  {
   "cell_type": "code",
   "execution_count": null,
   "metadata": {},
   "outputs": [],
   "source": []
  }
 ],
 "metadata": {
  "kernelspec": {
   "display_name": "Python 3",
   "language": "python",
   "name": "python3"
  },
  "language_info": {
   "codemirror_mode": {
    "name": "ipython",
    "version": 3
   },
   "file_extension": ".py",
   "mimetype": "text/x-python",
   "name": "python",
   "nbconvert_exporter": "python",
   "pygments_lexer": "ipython3",
   "version": "3.7.3"
  }
 },
 "nbformat": 4,
 "nbformat_minor": 2
}
